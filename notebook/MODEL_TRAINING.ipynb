{
 "cells": [
  {
   "cell_type": "markdown",
   "metadata": {},
   "source": [
    "# Model Training\n",
    "## 1. Data Imports"
   ]
  },
  {
   "cell_type": "code",
   "execution_count": 83,
   "metadata": {},
   "outputs": [],
   "source": [
    "# basic imports\n",
    "import pandas as pd\n",
    "import numpy as np\n",
    "import matplotlib.pyplot as plt\n",
    "import seaborn as sns\n",
    "\n",
    "# modeling imports\n",
    "from sklearn.metrics import mean_squared_error, r2_score, mean_absolute_error\n",
    "from sklearn.neighbors import KNeighborsRegressor\n",
    "from sklearn.tree import DecisionTreeRegressor\n",
    "from sklearn.ensemble import RandomForestRegressor, AdaBoostRegressor\n",
    "from sklearn.svm import SVR\n",
    "from sklearn.linear_model import LinearRegression, Ridge, Lasso\n",
    "from sklearn.model_selection import RandomizedSearchCV, train_test_split\n",
    "from sklearn.preprocessing import OneHotEncoder, StandardScaler\n",
    "from sklearn.compose import ColumnTransformer\n",
    "\n",
    "from catboost import CatBoostRegressor\n",
    "from xgboost import XGBRegressor"
   ]
  },
  {
   "cell_type": "code",
   "execution_count": 84,
   "metadata": {},
   "outputs": [],
   "source": [
    "# import csv data as pandas dataframe\n",
    "df = pd.read_csv('data/student_performance.csv')"
   ]
  },
  {
   "cell_type": "code",
   "execution_count": 85,
   "metadata": {},
   "outputs": [
    {
     "data": {
      "text/html": [
       "<div>\n",
       "<style scoped>\n",
       "    .dataframe tbody tr th:only-of-type {\n",
       "        vertical-align: middle;\n",
       "    }\n",
       "\n",
       "    .dataframe tbody tr th {\n",
       "        vertical-align: top;\n",
       "    }\n",
       "\n",
       "    .dataframe thead th {\n",
       "        text-align: right;\n",
       "    }\n",
       "</style>\n",
       "<table border=\"1\" class=\"dataframe\">\n",
       "  <thead>\n",
       "    <tr style=\"text-align: right;\">\n",
       "      <th></th>\n",
       "      <th>gender</th>\n",
       "      <th>race/ethnicity</th>\n",
       "      <th>parental level of education</th>\n",
       "      <th>lunch</th>\n",
       "      <th>test preparation course</th>\n",
       "      <th>math score</th>\n",
       "      <th>reading score</th>\n",
       "      <th>writing score</th>\n",
       "    </tr>\n",
       "  </thead>\n",
       "  <tbody>\n",
       "    <tr>\n",
       "      <th>0</th>\n",
       "      <td>female</td>\n",
       "      <td>group B</td>\n",
       "      <td>bachelor's degree</td>\n",
       "      <td>standard</td>\n",
       "      <td>none</td>\n",
       "      <td>72</td>\n",
       "      <td>72</td>\n",
       "      <td>74</td>\n",
       "    </tr>\n",
       "    <tr>\n",
       "      <th>1</th>\n",
       "      <td>female</td>\n",
       "      <td>group C</td>\n",
       "      <td>some college</td>\n",
       "      <td>standard</td>\n",
       "      <td>completed</td>\n",
       "      <td>69</td>\n",
       "      <td>90</td>\n",
       "      <td>88</td>\n",
       "    </tr>\n",
       "    <tr>\n",
       "      <th>2</th>\n",
       "      <td>female</td>\n",
       "      <td>group B</td>\n",
       "      <td>master's degree</td>\n",
       "      <td>standard</td>\n",
       "      <td>none</td>\n",
       "      <td>90</td>\n",
       "      <td>95</td>\n",
       "      <td>93</td>\n",
       "    </tr>\n",
       "    <tr>\n",
       "      <th>3</th>\n",
       "      <td>male</td>\n",
       "      <td>group A</td>\n",
       "      <td>associate's degree</td>\n",
       "      <td>free/reduced</td>\n",
       "      <td>none</td>\n",
       "      <td>47</td>\n",
       "      <td>57</td>\n",
       "      <td>44</td>\n",
       "    </tr>\n",
       "    <tr>\n",
       "      <th>4</th>\n",
       "      <td>male</td>\n",
       "      <td>group C</td>\n",
       "      <td>some college</td>\n",
       "      <td>standard</td>\n",
       "      <td>none</td>\n",
       "      <td>76</td>\n",
       "      <td>78</td>\n",
       "      <td>75</td>\n",
       "    </tr>\n",
       "  </tbody>\n",
       "</table>\n",
       "</div>"
      ],
      "text/plain": [
       "   gender race/ethnicity parental level of education         lunch  \\\n",
       "0  female        group B           bachelor's degree      standard   \n",
       "1  female        group C                some college      standard   \n",
       "2  female        group B             master's degree      standard   \n",
       "3    male        group A          associate's degree  free/reduced   \n",
       "4    male        group C                some college      standard   \n",
       "\n",
       "  test preparation course  math score  reading score  writing score  \n",
       "0                    none          72             72             74  \n",
       "1               completed          69             90             88  \n",
       "2                    none          90             95             93  \n",
       "3                    none          47             57             44  \n",
       "4                    none          76             78             75  "
      ]
     },
     "execution_count": 85,
     "metadata": {},
     "output_type": "execute_result"
    }
   ],
   "source": [
    "# show top 5 records\n",
    "df.head()"
   ]
  },
  {
   "cell_type": "markdown",
   "metadata": {},
   "source": [
    "## 2. Preprocessing\n",
    "### `Math Score` as Our Target Variable"
   ]
  },
  {
   "cell_type": "code",
   "execution_count": 86,
   "metadata": {},
   "outputs": [
    {
     "data": {
      "text/html": [
       "<div>\n",
       "<style scoped>\n",
       "    .dataframe tbody tr th:only-of-type {\n",
       "        vertical-align: middle;\n",
       "    }\n",
       "\n",
       "    .dataframe tbody tr th {\n",
       "        vertical-align: top;\n",
       "    }\n",
       "\n",
       "    .dataframe thead th {\n",
       "        text-align: right;\n",
       "    }\n",
       "</style>\n",
       "<table border=\"1\" class=\"dataframe\">\n",
       "  <thead>\n",
       "    <tr style=\"text-align: right;\">\n",
       "      <th></th>\n",
       "      <th>gender</th>\n",
       "      <th>race/ethnicity</th>\n",
       "      <th>parental level of education</th>\n",
       "      <th>lunch</th>\n",
       "      <th>test preparation course</th>\n",
       "      <th>reading score</th>\n",
       "      <th>writing score</th>\n",
       "    </tr>\n",
       "  </thead>\n",
       "  <tbody>\n",
       "    <tr>\n",
       "      <th>0</th>\n",
       "      <td>female</td>\n",
       "      <td>group B</td>\n",
       "      <td>bachelor's degree</td>\n",
       "      <td>standard</td>\n",
       "      <td>none</td>\n",
       "      <td>72</td>\n",
       "      <td>74</td>\n",
       "    </tr>\n",
       "    <tr>\n",
       "      <th>1</th>\n",
       "      <td>female</td>\n",
       "      <td>group C</td>\n",
       "      <td>some college</td>\n",
       "      <td>standard</td>\n",
       "      <td>completed</td>\n",
       "      <td>90</td>\n",
       "      <td>88</td>\n",
       "    </tr>\n",
       "    <tr>\n",
       "      <th>2</th>\n",
       "      <td>female</td>\n",
       "      <td>group B</td>\n",
       "      <td>master's degree</td>\n",
       "      <td>standard</td>\n",
       "      <td>none</td>\n",
       "      <td>95</td>\n",
       "      <td>93</td>\n",
       "    </tr>\n",
       "    <tr>\n",
       "      <th>3</th>\n",
       "      <td>male</td>\n",
       "      <td>group A</td>\n",
       "      <td>associate's degree</td>\n",
       "      <td>free/reduced</td>\n",
       "      <td>none</td>\n",
       "      <td>57</td>\n",
       "      <td>44</td>\n",
       "    </tr>\n",
       "    <tr>\n",
       "      <th>4</th>\n",
       "      <td>male</td>\n",
       "      <td>group C</td>\n",
       "      <td>some college</td>\n",
       "      <td>standard</td>\n",
       "      <td>none</td>\n",
       "      <td>78</td>\n",
       "      <td>75</td>\n",
       "    </tr>\n",
       "  </tbody>\n",
       "</table>\n",
       "</div>"
      ],
      "text/plain": [
       "   gender race/ethnicity parental level of education         lunch  \\\n",
       "0  female        group B           bachelor's degree      standard   \n",
       "1  female        group C                some college      standard   \n",
       "2  female        group B             master's degree      standard   \n",
       "3    male        group A          associate's degree  free/reduced   \n",
       "4    male        group C                some college      standard   \n",
       "\n",
       "  test preparation course  reading score  writing score  \n",
       "0                    none             72             74  \n",
       "1               completed             90             88  \n",
       "2                    none             95             93  \n",
       "3                    none             57             44  \n",
       "4                    none             78             75  "
      ]
     },
     "execution_count": 86,
     "metadata": {},
     "output_type": "execute_result"
    }
   ],
   "source": [
    "# prep X and y variables\n",
    "X = df.drop(columns=['math score'], axis=1)\n",
    "y = df['math score']\n",
    "\n",
    "X.head()"
   ]
  },
  {
   "cell_type": "code",
   "execution_count": 87,
   "metadata": {},
   "outputs": [
    {
     "name": "stdout",
     "output_type": "stream",
     "text": [
      "Categories in our 'gender' variable: ['female' 'male']\n",
      "Categories in our 'race/ethnicity' variable: ['group B' 'group C' 'group A' 'group D' 'group E']\n",
      "Categories in our 'parental level of education' variable: [\"bachelor's degree\" 'some college' \"master's degree\" \"associate's degree\"\n",
      " 'high school' 'some high school']\n",
      "Categories in our 'lunch' variable: ['standard' 'free/reduced']\n",
      "Categories in our 'test preparation course' variable: ['none' 'completed']\n"
     ]
    }
   ],
   "source": [
    "print(\"Categories in our 'gender' variable:\", end=' ')\n",
    "print(df['gender'].unique())\n",
    "\n",
    "print(\"Categories in our 'race/ethnicity' variable:\", end=' ')\n",
    "print(df['race/ethnicity'].unique())\n",
    "\n",
    "print(\"Categories in our 'parental level of education' variable:\", end=' ')\n",
    "print(df['parental level of education'].unique())\n",
    "\n",
    "print(\"Categories in our 'lunch' variable:\", end=' ')\n",
    "print(df['lunch'].unique())\n",
    "\n",
    "print(\"Categories in our 'test preparation course' variable:\", end=' ')\n",
    "print(df['test preparation course'].unique())"
   ]
  },
  {
   "cell_type": "code",
   "execution_count": 88,
   "metadata": {},
   "outputs": [
    {
     "data": {
      "text/plain": [
       "(1000, 19)"
      ]
     },
     "execution_count": 88,
     "metadata": {},
     "output_type": "execute_result"
    }
   ],
   "source": [
    "# create Column Transformer with 2 types of transformers\n",
    "num_features = X.select_dtypes(exclude='object').columns\n",
    "categorical_features = X.select_dtypes(include='object').columns\n",
    "\n",
    "num_transformer = StandardScaler()\n",
    "oh_transformer = OneHotEncoder()\n",
    "\n",
    "preprocessor = ColumnTransformer(\n",
    "    [\n",
    "        ('StandardScaler', num_transformer, num_features),\n",
    "        ('OneHoteEncoder', oh_transformer, categorical_features),\n",
    "    ]\n",
    ")\n",
    "\n",
    "X = preprocessor.fit_transform(X)\n",
    "X.shape"
   ]
  },
  {
   "cell_type": "code",
   "execution_count": 89,
   "metadata": {},
   "outputs": [
    {
     "name": "stdout",
     "output_type": "stream",
     "text": [
      "(700, 19) (150, 19)\n"
     ]
    }
   ],
   "source": [
    "# split dataset into train and test sets\n",
    "X_train, X_placeholder, y_train, y_placeholder = train_test_split(X, y, test_size=0.3, random_state=42)\n",
    "X_eval, X_test, y_eval, y_test = train_test_split(X_placeholder, y_placeholder, test_size=0.5, random_state=42)\n",
    "\n",
    "print(X_train.shape, X_test.shape)"
   ]
  },
  {
   "cell_type": "code",
   "execution_count": 90,
   "metadata": {},
   "outputs": [],
   "source": [
    "# evaluation fxn to easily return all metrics after model training\n",
    "def evaluate_model(true_vals, predicted_vals):\n",
    "    mae = mean_absolute_error(true_vals, predicted_vals)\n",
    "    mse = mean_squared_error(true_vals, predicted_vals)\n",
    "    rmse = np.sqrt(mse)\n",
    "    r2 = r2_score(true_vals, predicted_vals)\n",
    "    return mae, rmse, r2"
   ]
  },
  {
   "cell_type": "markdown",
   "metadata": {},
   "source": [
    "## 3. Train and Predict"
   ]
  },
  {
   "cell_type": "code",
   "execution_count": 91,
   "metadata": {},
   "outputs": [
    {
     "name": "stdout",
     "output_type": "stream",
     "text": [
      "Linear Regression\n",
      "Model performance for Training Set\n",
      "-- Root Mean Squred Error: 5.2483\n",
      "-- Mean Absolute Error: 4.1985\n",
      "-- R2 Score: 0.8751\n",
      "-----------------------------------\n",
      "Model performance for Evaluation Set\n",
      "-- Root Mean Squred Error: 5.6664\n",
      "-- Mean Absolute Error: 4.5172\n",
      "-- R2 Score: 0.8938\n",
      "===================================\n",
      "\n",
      "\n",
      "Lasso\n",
      "Model performance for Training Set\n",
      "-- Root Mean Squred Error: 6.5106\n",
      "-- Mean Absolute Error: 5.1582\n",
      "-- R2 Score: 0.8078\n",
      "-----------------------------------\n",
      "Model performance for Evaluation Set\n",
      "-- Root Mean Squred Error: 7.4174\n",
      "-- Mean Absolute Error: 5.9252\n",
      "-- R2 Score: 0.8179\n",
      "===================================\n",
      "\n",
      "\n",
      "Ridge\n",
      "Model performance for Training Set\n",
      "-- Root Mean Squred Error: 5.2487\n",
      "-- Mean Absolute Error: 4.1977\n",
      "-- R2 Score: 0.8751\n",
      "-----------------------------------\n",
      "Model performance for Evaluation Set\n",
      "-- Root Mean Squred Error: 5.6708\n",
      "-- Mean Absolute Error: 4.5186\n",
      "-- R2 Score: 0.8936\n",
      "===================================\n",
      "\n",
      "\n",
      "K-Neighbors Regressor\n",
      "Model performance for Training Set\n",
      "-- Root Mean Squred Error: 5.6813\n",
      "-- Mean Absolute Error: 4.5040\n",
      "-- R2 Score: 0.8537\n",
      "-----------------------------------\n",
      "Model performance for Evaluation Set\n",
      "-- Root Mean Squred Error: 8.1106\n",
      "-- Mean Absolute Error: 6.2733\n",
      "-- R2 Score: 0.7823\n",
      "===================================\n",
      "\n",
      "\n",
      "Decision Tree\n",
      "Model performance for Training Set\n",
      "-- Root Mean Squred Error: 2.3417\n",
      "-- Mean Absolute Error: 1.8629\n",
      "-- R2 Score: 0.9751\n",
      "-----------------------------------\n",
      "Model performance for Evaluation Set\n",
      "-- Root Mean Squred Error: 6.4626\n",
      "-- Mean Absolute Error: 5.0941\n",
      "-- R2 Score: 0.8618\n",
      "===================================\n",
      "\n",
      "\n",
      "XGBoost\n",
      "Model performance for Training Set\n",
      "-- Root Mean Squred Error: 0.8957\n",
      "-- Mean Absolute Error: 0.5657\n",
      "-- R2 Score: 0.9964\n",
      "-----------------------------------\n",
      "Model performance for Evaluation Set\n",
      "-- Root Mean Squred Error: 7.0457\n",
      "-- Mean Absolute Error: 5.6558\n",
      "-- R2 Score: 0.8357\n",
      "===================================\n",
      "\n",
      "\n",
      "CatBoosting Regressor\n",
      "Model performance for Training Set\n",
      "-- Root Mean Squred Error: 2.9221\n",
      "-- Mean Absolute Error: 2.2890\n",
      "-- R2 Score: 0.9613\n",
      "-----------------------------------\n",
      "Model performance for Evaluation Set\n",
      "-- Root Mean Squred Error: 6.4398\n",
      "-- Mean Absolute Error: 4.9739\n",
      "-- R2 Score: 0.8628\n",
      "===================================\n",
      "\n",
      "\n",
      "AdaBoostRegressor\n",
      "Model performance for Training Set\n",
      "-- Root Mean Squred Error: 5.8370\n",
      "-- Mean Absolute Error: 4.6934\n",
      "-- R2 Score: 0.8455\n",
      "-----------------------------------\n",
      "Model performance for Evaluation Set\n",
      "-- Root Mean Squred Error: 6.8768\n",
      "-- Mean Absolute Error: 5.5097\n",
      "-- R2 Score: 0.8435\n",
      "===================================\n",
      "\n",
      "\n"
     ]
    }
   ],
   "source": [
    "models = {\n",
    "    'Linear Regression': LinearRegression(),\n",
    "    'Lasso': Lasso(),\n",
    "    'Ridge': Ridge(),\n",
    "    'K-Neighbors Regressor': KNeighborsRegressor(),\n",
    "    'Decision Tree': RandomForestRegressor(),\n",
    "    'XGBoost': XGBRegressor(),\n",
    "    'CatBoosting Regressor': CatBoostRegressor(verbose=False),\n",
    "    'AdaBoostRegressor': AdaBoostRegressor()\n",
    "}\n",
    "\n",
    "model_list = []\n",
    "r2_list = []\n",
    "\n",
    "# iterate through each model\n",
    "for name, model in models.items():\n",
    "    # train model on the training data\n",
    "    model.fit(X_train, y_train)\n",
    "\n",
    "    # make predictions on the training data\n",
    "    y_train_pred = model.predict(X_train)\n",
    "\n",
    "    # make predictions on the evaluation data\n",
    "    y_eval_pred = model.predict(X_eval)\n",
    "\n",
    "    # evaluate the model on the train data\n",
    "    model_train_mae, model_train_rmse, model_train_r2 = evaluate_model(y_train, y_train_pred)\n",
    "\n",
    "    # evaluate the model on the test data\n",
    "    model_eval_mae, model_eval_rmse, model_eval_r2 = evaluate_model(y_eval, y_eval_pred)\n",
    "\n",
    "    print(name)\n",
    "    model_list.append(name)\n",
    "\n",
    "    print('Model performance for Training Set')\n",
    "    print(f'-- Root Mean Squred Error: {model_train_rmse:.4f}')\n",
    "    print(f'-- Mean Absolute Error: {model_train_mae:.4f}')\n",
    "    print(f'-- R2 Score: {model_train_r2:.4f}')\n",
    "    print('-'*35)\n",
    "    \n",
    "    print('Model performance for Evaluation Set')\n",
    "    print(f'-- Root Mean Squred Error: {model_eval_rmse:.4f}')\n",
    "    print(f'-- Mean Absolute Error: {model_eval_mae:.4f}')\n",
    "    print(f'-- R2 Score: {model_eval_r2:.4f}')\n",
    "    r2_list.append(model_eval_r2)\n",
    "\n",
    "    print('='*35)\n",
    "    print('\\n')"
   ]
  },
  {
   "cell_type": "markdown",
   "metadata": {},
   "source": [
    "## 4. Results"
   ]
  },
  {
   "cell_type": "code",
   "execution_count": 92,
   "metadata": {},
   "outputs": [
    {
     "data": {
      "text/html": [
       "<div>\n",
       "<style scoped>\n",
       "    .dataframe tbody tr th:only-of-type {\n",
       "        vertical-align: middle;\n",
       "    }\n",
       "\n",
       "    .dataframe tbody tr th {\n",
       "        vertical-align: top;\n",
       "    }\n",
       "\n",
       "    .dataframe thead th {\n",
       "        text-align: right;\n",
       "    }\n",
       "</style>\n",
       "<table border=\"1\" class=\"dataframe\">\n",
       "  <thead>\n",
       "    <tr style=\"text-align: right;\">\n",
       "      <th></th>\n",
       "      <th>Model Name</th>\n",
       "      <th>R2 Score</th>\n",
       "    </tr>\n",
       "  </thead>\n",
       "  <tbody>\n",
       "    <tr>\n",
       "      <th>0</th>\n",
       "      <td>Linear Regression</td>\n",
       "      <td>0.893751</td>\n",
       "    </tr>\n",
       "    <tr>\n",
       "      <th>2</th>\n",
       "      <td>Ridge</td>\n",
       "      <td>0.893587</td>\n",
       "    </tr>\n",
       "    <tr>\n",
       "      <th>6</th>\n",
       "      <td>CatBoosting Regressor</td>\n",
       "      <td>0.862769</td>\n",
       "    </tr>\n",
       "    <tr>\n",
       "      <th>4</th>\n",
       "      <td>Decision Tree</td>\n",
       "      <td>0.861797</td>\n",
       "    </tr>\n",
       "    <tr>\n",
       "      <th>7</th>\n",
       "      <td>AdaBoostRegressor</td>\n",
       "      <td>0.843515</td>\n",
       "    </tr>\n",
       "    <tr>\n",
       "      <th>5</th>\n",
       "      <td>XGBoost</td>\n",
       "      <td>0.835730</td>\n",
       "    </tr>\n",
       "    <tr>\n",
       "      <th>1</th>\n",
       "      <td>Lasso</td>\n",
       "      <td>0.817943</td>\n",
       "    </tr>\n",
       "    <tr>\n",
       "      <th>3</th>\n",
       "      <td>K-Neighbors Regressor</td>\n",
       "      <td>0.782324</td>\n",
       "    </tr>\n",
       "  </tbody>\n",
       "</table>\n",
       "</div>"
      ],
      "text/plain": [
       "              Model Name  R2 Score\n",
       "0      Linear Regression  0.893751\n",
       "2                  Ridge  0.893587\n",
       "6  CatBoosting Regressor  0.862769\n",
       "4          Decision Tree  0.861797\n",
       "7      AdaBoostRegressor  0.843515\n",
       "5                XGBoost  0.835730\n",
       "1                  Lasso  0.817943\n",
       "3  K-Neighbors Regressor  0.782324"
      ]
     },
     "execution_count": 92,
     "metadata": {},
     "output_type": "execute_result"
    }
   ],
   "source": [
    "# zip together model_list and r2_list\n",
    "models_r2 = zip(model_list, r2_list)\n",
    "\n",
    "# turn into pd df\n",
    "results = pd.DataFrame(models_r2, columns=['Model Name', 'R2 Score'])\n",
    "\n",
    "# sort by r2 score\n",
    "results = results.sort_values(by='R2 Score', ascending=False)\n",
    "results"
   ]
  },
  {
   "cell_type": "markdown",
   "metadata": {},
   "source": [
    "#### Insights\n",
    "\n",
    "- Ridge Regression and Linear Regression have the best test set performance, with an R2 score of 88.06% and 88.04% respectively\n",
    "- since their performace is so close, we will use Linear Regression for ease of interpretation"
   ]
  },
  {
   "cell_type": "markdown",
   "metadata": {},
   "source": [
    "### 4.1 Train Final Model on Test Set"
   ]
  },
  {
   "cell_type": "code",
   "execution_count": 93,
   "metadata": {},
   "outputs": [
    {
     "name": "stdout",
     "output_type": "stream",
     "text": [
      "Final Model: Linear Regression\n",
      "Model Performance for Test Set\n",
      "-- Root Mean Squared Error: 4.3284\n",
      "-- Mean Absolute Error: 5.4387\n",
      "-- R2 Score: 0.8486\n"
     ]
    }
   ],
   "source": [
    "# initialize final model\n",
    "final_model = LinearRegression(fit_intercept=True)\n",
    "\n",
    "final_X_train = np.vstack((X_train, X_eval))\n",
    "final_y_train = np.concatenate((y_train, y_eval))\n",
    "\n",
    "# train final model on train data\n",
    "final_model.fit(final_X_train, final_y_train)\n",
    "\n",
    "# predict final model on train data\n",
    "y_test_pred = final_model.predict(X_test)\n",
    "\n",
    "# evaluate final model on train data\n",
    "final_test_mae, final_test_rmse, final_test_r2 = evaluate_model(y_test, y_test_pred)\n",
    "\n",
    "print('Final Model: Linear Regression')\n",
    "print('Model Performance for Test Set')\n",
    "print(f'-- Root Mean Squared Error: {final_test_mae:.4f}')\n",
    "print(f'-- Mean Absolute Error: {final_test_rmse:.4f}')\n",
    "print(f'-- R2 Score: {final_test_r2:.4f}')"
   ]
  },
  {
   "cell_type": "markdown",
   "metadata": {},
   "source": [
    "### 4.2 Parity Plot and Regression Plot for Final Model"
   ]
  },
  {
   "cell_type": "code",
   "execution_count": 94,
   "metadata": {},
   "outputs": [
    {
     "data": {
      "text/plain": [
       "Text(0, 0.5, 'Predicted')"
      ]
     },
     "execution_count": 94,
     "metadata": {},
     "output_type": "execute_result"
    },
    {
     "data": {
      "image/png": "[encoded data removed]",
      "text/plain": [
       "<Figure size 640x480 with 1 Axes>"
      ]
     },
     "metadata": {},
     "output_type": "display_data"
    }
   ],
   "source": [
    "plt.scatter(y_test, y_test_pred)\n",
    "plt.xlabel('Actual')\n",
    "plt.ylabel('Predicted')"
   ]
  },
  {
   "cell_type": "code",
   "execution_count": 95,
   "metadata": {},
   "outputs": [
    {
     "data": {
      "image/png": "[encoded data removed]",
      "text/plain": [
       "<Figure size 640x480 with 1 Axes>"
      ]
     },
     "metadata": {},
     "output_type": "display_data"
    }
   ],
   "source": [
    "# plot regression line through scatter plot (with 99% confidence interval around the line)\n",
    "sns.regplot(x=y_test, y=y_test_pred, ci=99 , color='red')\n",
    "\n",
    "plt.show()"
   ]
  },
  {
   "cell_type": "markdown",
   "metadata": {},
   "source": [
    "### 4.3 Difference Between Actual and Predicted Values"
   ]
  },
  {
   "cell_type": "code",
   "execution_count": 96,
   "metadata": {},
   "outputs": [
    {
     "name": "stdout",
     "output_type": "stream",
     "text": [
      "Uncertainty (MAE): 4.33\n"
     ]
    },
    {
     "data": {
      "text/html": [
       "<div>\n",
       "<style scoped>\n",
       "    .dataframe tbody tr th:only-of-type {\n",
       "        vertical-align: middle;\n",
       "    }\n",
       "\n",
       "    .dataframe tbody tr th {\n",
       "        vertical-align: top;\n",
       "    }\n",
       "\n",
       "    .dataframe thead th {\n",
       "        text-align: right;\n",
       "    }\n",
       "</style>\n",
       "<table border=\"1\" class=\"dataframe\">\n",
       "  <thead>\n",
       "    <tr style=\"text-align: right;\">\n",
       "      <th></th>\n",
       "      <th>Actual Value</th>\n",
       "      <th>Predicted Value</th>\n",
       "      <th>Difference</th>\n",
       "    </tr>\n",
       "  </thead>\n",
       "  <tbody>\n",
       "    <tr>\n",
       "      <th>557</th>\n",
       "      <td>61</td>\n",
       "      <td>67.347930</td>\n",
       "      <td>-6.347930</td>\n",
       "    </tr>\n",
       "    <tr>\n",
       "      <th>798</th>\n",
       "      <td>69</td>\n",
       "      <td>68.026458</td>\n",
       "      <td>0.973542</td>\n",
       "    </tr>\n",
       "    <tr>\n",
       "      <th>977</th>\n",
       "      <td>62</td>\n",
       "      <td>66.356259</td>\n",
       "      <td>-4.356259</td>\n",
       "    </tr>\n",
       "    <tr>\n",
       "      <th>136</th>\n",
       "      <td>51</td>\n",
       "      <td>48.706080</td>\n",
       "      <td>2.293920</td>\n",
       "    </tr>\n",
       "    <tr>\n",
       "      <th>575</th>\n",
       "      <td>40</td>\n",
       "      <td>53.853272</td>\n",
       "      <td>-13.853272</td>\n",
       "    </tr>\n",
       "  </tbody>\n",
       "</table>\n",
       "</div>"
      ],
      "text/plain": [
       "     Actual Value  Predicted Value  Difference\n",
       "557            61        67.347930   -6.347930\n",
       "798            69        68.026458    0.973542\n",
       "977            62        66.356259   -4.356259\n",
       "136            51        48.706080    2.293920\n",
       "575            40        53.853272  -13.853272"
      ]
     },
     "execution_count": 96,
     "metadata": {},
     "output_type": "execute_result"
    }
   ],
   "source": [
    "predicted_df = pd.DataFrame({\n",
    "    'Actual Value': y_test,\n",
    "    'Predicted Value': y_test_pred,\n",
    "    'Difference': y_test - y_test_pred,\n",
    "})\n",
    "\n",
    "# mean absolute error as a measure of uncertainty\n",
    "uncertainty_mae = predicted_df['Difference'].abs().mean()\n",
    "print(f'Uncertainty (MAE): {uncertainty_mae:.2f}')\n",
    "\n",
    "predicted_df.head()"
   ]
  },
  {
   "cell_type": "code",
   "execution_count": null,
   "metadata": {},
   "outputs": [],
   "source": []
  }
 ],
 "metadata": {
  "kernelspec": {
   "display_name": "Python (ml-project-venv)",
   "language": "python",
   "name": "ml-project-venv"
  },
  "language_info": {
   "codemirror_mode": {
    "name": "ipython",
    "version": 3
   },
   "file_extension": ".py",
   "mimetype": "text/x-python",
   "name": "python",
   "nbconvert_exporter": "python",
   "pygments_lexer": "ipython3",
   "version": "3.9.0rc1"
  }
 },
 "nbformat": 4,
 "nbformat_minor": 2
}
